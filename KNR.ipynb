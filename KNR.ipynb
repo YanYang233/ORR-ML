{
 "cells": [
  {
   "cell_type": "code",
   "execution_count": 1,
   "id": "88b45230",
   "metadata": {},
   "outputs": [],
   "source": [
    "import numpy as np\n",
    "import pandas as pd\n",
    "from sklearn.neighbors import KNeighborsRegressor as KNR\n",
    "from sklearn.metrics import mean_squared_error as mse\n",
    "from sklearn.metrics import r2_score\n",
    "from sklearn.model_selection import train_test_split\n",
    "from sklearn.preprocessing import MinMaxScaler\n",
    "import matplotlib.pyplot as plt\n",
    "from sklearn.model_selection import KFold,cross_val_score,GridSearchCV"
   ]
  },
  {
   "cell_type": "code",
   "execution_count": 2,
   "id": "a384b8cb",
   "metadata": {},
   "outputs": [],
   "source": [
    "data_train=pd.read_csv('data_train.csv',encoding='utf-8',index_col=0)\n",
    "data_train2 = data_train[['AngM1-N-M2', 'dM1-M2',  'MagM1',  'RM1',\n",
    "      'NoutM1', 'Hf,oxM1','XM1', 'EAM1', 'EiM1',\n",
    "       'MagM2',  'RM2', 'NoutM2', 'Hf,oxM2',\n",
    "        'XM2', 'EAM2', 'EiM2','Uorr']]"
   ]
  },
  {
   "cell_type": "code",
   "execution_count": 3,
   "id": "489d7fa5",
   "metadata": {},
   "outputs": [],
   "source": [
    "x=data_train2.iloc[:, 0:-1].values\n",
    "y=data_train2.iloc[:,-1].values\n",
    "scaler = MinMaxScaler()\n",
    "x = scaler.fit_transform(x)"
   ]
  },
  {
   "cell_type": "code",
   "execution_count": 4,
   "id": "9ff4c364",
   "metadata": {},
   "outputs": [],
   "source": [
    "x_train, x_test, y_train, y_test = train_test_split(x, y, test_size=0.2, random_state=32)"
   ]
  },
  {
   "cell_type": "code",
   "execution_count": 5,
   "id": "f7252187",
   "metadata": {},
   "outputs": [
    {
     "data": {
      "text/plain": [
       "KNeighborsRegressor(n_neighbors=2)"
      ]
     },
     "execution_count": 5,
     "metadata": {},
     "output_type": "execute_result"
    }
   ],
   "source": [
    "model = KNR(n_neighbors=2,weights='uniform',algorithm='auto', leaf_size=30, metric='minkowski')\n",
    "model.fit(x_train,y_train)"
   ]
  },
  {
   "cell_type": "code",
   "execution_count": 6,
   "id": "79cac82a",
   "metadata": {},
   "outputs": [],
   "source": [
    "y_pred_train_model=model.predict(x_train)\n",
    "y_pred_test_model=model.predict(x_test)"
   ]
  },
  {
   "cell_type": "code",
   "execution_count": 7,
   "id": "45bb6858",
   "metadata": {},
   "outputs": [
    {
     "data": {
      "image/png": "[encoded data removed]",
      "text/plain": [
       "<Figure size 360x360 with 1 Axes>"
      ]
     },
     "metadata": {
      "needs_background": "light"
     },
     "output_type": "display_data"
    }
   ],
   "source": [
    "plt.subplots(1,1,figsize=(5,5))\n",
    "plt.plot([0,2],[0,2])\n",
    "plt.scatter(y_train,y_pred_train_model,alpha=0.5,color='blue',label='train set')\n",
    "plt.scatter(y_test,y_pred_test_model,alpha=0.5,color='red',label='test set')\n",
    "\n",
    "plt.xlabel('-U(DFT)/eV')\n",
    "plt.ylabel('-U(ML)/eV')\n",
    "plt.legend()\n",
    "plt.show()"
   ]
  },
  {
   "cell_type": "code",
   "execution_count": 8,
   "id": "044b5e41",
   "metadata": {},
   "outputs": [
    {
     "name": "stdout",
     "output_type": "stream",
     "text": [
      "0.4187740696170381\n",
      "0.258131257310916\n",
      "0.48163354436054895\n",
      "0.3853520171574356\n"
     ]
    }
   ],
   "source": [
    "rmse = np.sqrt(mse(y_train,model.predict(x_train)))\n",
    "r2 = r2_score(y_train,model.predict(x_train))\n",
    "rmset = np.sqrt(mse(y_test,model.predict(x_test)))\n",
    "r2t = r2_score(y_test,model.predict(x_test))\n",
    "\n",
    "print(r2)\n",
    "print(rmse)\n",
    "print(r2t)\n",
    "print(rmset)"
   ]
  }
 ],
 "metadata": {
  "kernelspec": {
   "display_name": "Python 3 (ipykernel)",
   "language": "python",
   "name": "python3"
  },
  "language_info": {
   "codemirror_mode": {
    "name": "ipython",
    "version": 3
   },
   "file_extension": ".py",
   "mimetype": "text/x-python",
   "name": "python",
   "nbconvert_exporter": "python",
   "pygments_lexer": "ipython3",
   "version": "3.7.12"
  }
 },
 "nbformat": 4,
 "nbformat_minor": 5
}
