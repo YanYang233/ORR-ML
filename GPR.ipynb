{
 "cells": [
  {
   "cell_type": "code",
   "execution_count": 1,
   "id": "f1a76ba0",
   "metadata": {},
   "outputs": [],
   "source": [
    "import numpy as np\n",
    "import pandas as pd\n",
    "from sklearn.gaussian_process import GaussianProcessRegressor as GPR\n",
    "from sklearn.gaussian_process.kernels import RBF, ConstantKernel\n",
    "from sklearn.metrics import mean_squared_error as mse\n",
    "from sklearn.metrics import r2_score\n",
    "from sklearn.model_selection import train_test_split\n",
    "from sklearn.preprocessing import MinMaxScaler\n",
    "import matplotlib.pyplot as plt\n",
    "from sklearn.model_selection import train_test_split,KFold,cross_val_score,ShuffleSplit,GridSearchCV"
   ]
  },
  {
   "cell_type": "code",
   "execution_count": 2,
   "id": "9a64a064",
   "metadata": {
    "scrolled": true
   },
   "outputs": [],
   "source": [
    "data_train=pd.read_csv('data_train.csv',encoding='utf-8',index_col=0)\n",
    "data_train2 = data_train[['AngM1-N-M2', 'dM1-M2',  'MagM1',  'RM1',\n",
    "      'NoutM1', 'Hf,oxM1','XM1', 'EAM1', 'EiM1',\n",
    "       'MagM2',  'RM2', 'NoutM2', 'Hf,oxM2',\n",
    "        'XM2', 'EAM2', 'EiM2','Uorr']]"
   ]
  },
  {
   "cell_type": "code",
   "execution_count": 3,
   "id": "e8ab77f1",
   "metadata": {},
   "outputs": [],
   "source": [
    "x=data_train2.iloc[:, 0:-1].values\n",
    "y=data_train2.iloc[:,-1].values\n",
    "scaler = MinMaxScaler()\n",
    "x = scaler.fit_transform(x)"
   ]
  },
  {
   "cell_type": "code",
   "execution_count": 4,
   "id": "e25a2e19",
   "metadata": {},
   "outputs": [],
   "source": [
    "x_train, x_test, y_train, y_test = train_test_split(x, y, test_size=0.2, random_state=17)"
   ]
  },
  {
   "cell_type": "code",
   "execution_count": 5,
   "id": "4029cd4b",
   "metadata": {},
   "outputs": [],
   "source": [
    "kernel=ConstantKernel(constant_value=0.2,constant_value_bounds=(1e-4,1e4))*RBF(length_scale=0.5,length_scale_bounds=(1e-4,1e4))"
   ]
  },
  {
   "cell_type": "code",
   "execution_count": 6,
   "id": "0c73d9a9",
   "metadata": {},
   "outputs": [
    {
     "data": {
      "text/plain": [
       "0.5332196611888553"
      ]
     },
     "execution_count": 6,
     "metadata": {},
     "output_type": "execute_result"
    }
   ],
   "source": [
    "model = GPR(kernel=kernel)\n",
    "\n",
    "model.fit(x_train, y_train)\n",
    "score=model.score(x_test,y_test)\n",
    "score"
   ]
  },
  {
   "cell_type": "code",
   "execution_count": 7,
   "id": "a6023a7d",
   "metadata": {},
   "outputs": [
    {
     "data": {
      "image/png": "[encoded data removed]",
      "text/plain": [
       "<Figure size 360x360 with 1 Axes>"
      ]
     },
     "metadata": {
      "needs_background": "light"
     },
     "output_type": "display_data"
    }
   ],
   "source": [
    "y_pred_train_model=model.predict(x_train)\n",
    "y_pred_test_model=model.predict(x_test)\n",
    "\n",
    "plt.figure(figsize=(5,5))\n",
    "plt.plot([0,2],[0,2])\n",
    "plt.scatter(y_train,y_pred_train_model,alpha=0.5,color='blue',label='train set')#y_train,y_pred_train_model，一个计算得到的，一个预测的\n",
    "plt.scatter(y_test,y_pred_test_model,alpha=0.5,color='red',label='test set')\n",
    "plt.xlabel('-U(DFT)/eV')\n",
    "plt.ylabel('-U(ML)/eV')\n",
    "plt.legend()\n",
    "plt.show()"
   ]
  },
  {
   "cell_type": "code",
   "execution_count": 8,
   "id": "13b6409a",
   "metadata": {},
   "outputs": [
    {
     "name": "stdout",
     "output_type": "stream",
     "text": [
      "3.004933347180494e-10\n",
      "1.0\n",
      "0.29705584053811085\n",
      "0.5332196611888553\n"
     ]
    }
   ],
   "source": [
    "rmse = np.sqrt(mse(y_train,model.predict(x_train)))\n",
    "r2 = r2_score(y_train,model.predict(x_train))\n",
    "rmset = np.sqrt(mse(y_test,model.predict(x_test)))\n",
    "r2t = r2_score(y_test,model.predict(x_test))\n",
    "\n",
    "print(rmse)\n",
    "print(r2)\n",
    "print(rmset)\n",
    "print(r2t)"
   ]
  }
 ],
 "metadata": {
  "kernelspec": {
   "display_name": "Python 3 (ipykernel)",
   "language": "python",
   "name": "python3"
  },
  "language_info": {
   "codemirror_mode": {
    "name": "ipython",
    "version": 3
   },
   "file_extension": ".py",
   "mimetype": "text/x-python",
   "name": "python",
   "nbconvert_exporter": "python",
   "pygments_lexer": "ipython3",
   "version": "3.7.12"
  }
 },
 "nbformat": 4,
 "nbformat_minor": 5
}
