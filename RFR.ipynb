{
 "cells": [
  {
   "cell_type": "code",
   "execution_count": 1,
   "id": "96025b6a",
   "metadata": {},
   "outputs": [],
   "source": [
    "import numpy as np\n",
    "import pandas as pd\n",
    "from sklearn.ensemble import RandomForestRegressor as RFR\n",
    "from sklearn.metrics import mean_squared_error as mse\n",
    "from sklearn.metrics import r2_score\n",
    "from sklearn.model_selection import train_test_split\n",
    "from sklearn.preprocessing import MinMaxScaler\n",
    "import matplotlib.pyplot as plt\n",
    "from sklearn.model_selection import KFold,cross_val_score,GridSearchCV\n",
    "from time import time\n",
    "import datetime\n",
    "import seaborn as sns"
   ]
  },
  {
   "cell_type": "code",
   "execution_count": 2,
   "id": "f2b5233e",
   "metadata": {},
   "outputs": [],
   "source": [
    "data_train=pd.read_csv('data_train.csv',encoding='utf-8',index_col=0)\n",
    "data_train2 = data_train[['AngM1-N-M2', 'dM1-M2',  'MagM1',  'RM1',\n",
    "      'NoutM1', 'Hf,oxM1','XM1', 'EAM1', 'EiM1',\n",
    "       'MagM2',  'RM2', 'NoutM2', 'Hf,oxM2',\n",
    "        'XM2', 'EAM2', 'EiM2','Uorr']]"
   ]
  },
  {
   "cell_type": "code",
   "execution_count": 3,
   "id": "81c607d0",
   "metadata": {},
   "outputs": [],
   "source": [
    "x=data_train2.iloc[:, 0:-1].values\n",
    "y=data_train2.iloc[:,-1].values\n",
    "scaler = MinMaxScaler()\n",
    "x = scaler.fit_transform(x)"
   ]
  },
  {
   "cell_type": "code",
   "execution_count": 4,
   "id": "9227cd5d",
   "metadata": {},
   "outputs": [],
   "source": [
    "x_train, x_test, y_train, y_test = train_test_split(x, y, test_size=0.2, random_state=14)"
   ]
  },
  {
   "cell_type": "code",
   "execution_count": 5,
   "id": "1e050c7c",
   "metadata": {},
   "outputs": [
    {
     "name": "stderr",
     "output_type": "stream",
     "text": [
      "C:\\Users\\Administrator\\anaconda3\\envs\\ml37\\lib\\site-packages\\sklearn\\ensemble\\_forest.py:400: FutureWarning: Criterion 'mse' was deprecated in v1.0 and will be removed in version 1.2. Use `criterion='squared_error'` which is equivalent.\n",
      "  FutureWarning,\n"
     ]
    },
    {
     "data": {
      "text/plain": [
       "0.7560654016522348"
      ]
     },
     "execution_count": 5,
     "metadata": {},
     "output_type": "execute_result"
    }
   ],
   "source": [
    "model = RFR(n_estimators=500\n",
    "           ,random_state=1\n",
    "           ,criterion=\"mse\"\n",
    "           ,min_samples_split=3   \n",
    "           ,min_samples_leaf=3    \n",
    "           ,max_depth=3          \n",
    "           ,max_features=16       \n",
    "           ,max_leaf_nodes=5)\n",
    "\n",
    "model.fit(x_train,y_train)\n",
    "score=model.score(x_test,y_test)\n",
    "score"
   ]
  },
  {
   "cell_type": "code",
   "execution_count": 6,
   "id": "0c679a4f",
   "metadata": {},
   "outputs": [],
   "source": [
    "y_pred_train_model=model.predict(x_train)\n",
    "y_pred_test_model=model.predict(x_test)"
   ]
  },
  {
   "cell_type": "code",
   "execution_count": 7,
   "id": "f127a5c5",
   "metadata": {},
   "outputs": [
    {
     "data": {
      "image/png": "[encoded data removed]",
      "text/plain": [
       "<Figure size 360x360 with 1 Axes>"
      ]
     },
     "metadata": {
      "needs_background": "light"
     },
     "output_type": "display_data"
    }
   ],
   "source": [
    "plt.figure(figsize=(5,5))\n",
    "plt.plot([0,2],[0,2])\n",
    "plt.scatter(y_train,y_pred_train_model,alpha=0.5,color='blue',label='train set')\n",
    "plt.scatter(y_test,y_pred_test_model,alpha=0.5,color='red',label='test set')\n",
    "plt.xlabel('U(DFT)/eV')\n",
    "plt.ylabel('U(ML)/eV')\n",
    "plt.legend()\n",
    "plt.savefig('rfr.png', dpi=300, format='png')\n",
    "plt.show()"
   ]
  },
  {
   "cell_type": "code",
   "execution_count": 8,
   "id": "927fa3f9",
   "metadata": {},
   "outputs": [
    {
     "name": "stdout",
     "output_type": "stream",
     "text": [
      "0.1435181780156456\n",
      "0.8605003783328431\n",
      "0.21065828619454802\n",
      "0.7560654016522348\n"
     ]
    }
   ],
   "source": [
    "rmse = np.sqrt(mse(y_train,model.predict(x_train)))\n",
    "r2 = r2_score(y_train,model.predict(x_train))\n",
    "rmset = np.sqrt(mse(y_test,model.predict(x_test)))\n",
    "r2t = r2_score(y_test,model.predict(x_test))\n",
    "\n",
    "print(rmse)\n",
    "print(r2)\n",
    "print(rmset)\n",
    "print(r2t)"
   ]
  }
 ],
 "metadata": {
  "kernelspec": {
   "display_name": "Python 3 (ipykernel)",
   "language": "python",
   "name": "python3"
  },
  "language_info": {
   "codemirror_mode": {
    "name": "ipython",
    "version": 3
   },
   "file_extension": ".py",
   "mimetype": "text/x-python",
   "name": "python",
   "nbconvert_exporter": "python",
   "pygments_lexer": "ipython3",
   "version": "3.7.12"
  }
 },
 "nbformat": 4,
 "nbformat_minor": 5
}
