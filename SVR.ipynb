{
 "cells": [
  {
   "cell_type": "code",
   "execution_count": 1,
   "id": "943f8e76",
   "metadata": {},
   "outputs": [],
   "source": [
    "import numpy as np\n",
    "import pandas as pd\n",
    "from sklearn.svm import SVR\n",
    "from sklearn.metrics import mean_squared_error as mse\n",
    "from sklearn.metrics import r2_score\n",
    "from sklearn.model_selection import train_test_split,KFold,cross_val_score,GridSearchCV\n",
    "from sklearn.preprocessing import MinMaxScaler\n",
    "import matplotlib.pyplot as plt"
   ]
  },
  {
   "cell_type": "code",
   "execution_count": 2,
   "id": "1464327c",
   "metadata": {
    "scrolled": true
   },
   "outputs": [],
   "source": [
    "data_train=pd.read_csv('data_train.csv',encoding=\"ISO-8859-1\",index_col=0)\n",
    "data_train2 = data_train[['AngM1-N-M2', 'dM1-M2',  'MagM1',  'RM1',\n",
    "      'NoutM1', 'Hf,oxM1','XM1', 'EAM1', 'EiM1',\n",
    "       'MagM2',  'RM2', 'NoutM2', 'Hf,oxM2',\n",
    "        'XM2', 'EAM2', 'EiM2','Uorr']]"
   ]
  },
  {
   "cell_type": "code",
   "execution_count": 3,
   "id": "da5eab1c",
   "metadata": {},
   "outputs": [],
   "source": [
    "x=data_train2.iloc[:, 0:-1].values\n",
    "y=data_train2.iloc[:,-1].values\n",
    "scaler = MinMaxScaler()\n",
    "x = scaler.fit_transform(x)"
   ]
  },
  {
   "cell_type": "code",
   "execution_count": 54,
   "id": "ab216c2d",
   "metadata": {},
   "outputs": [],
   "source": [
    "x_train, x_test, y_train, y_test = train_test_split(x, y, test_size=0.2, random_state=34)"
   ]
  },
  {
   "cell_type": "code",
   "execution_count": 55,
   "id": "42c05826",
   "metadata": {},
   "outputs": [],
   "source": [
    "model = SVR(kernel='rbf'\n",
    "           ,C=1000     \n",
    "           ,gamma=1e-4 \n",
    "           ,tol=0.001\n",
    "           )"
   ]
  },
  {
   "cell_type": "code",
   "execution_count": 56,
   "id": "a090b43a",
   "metadata": {},
   "outputs": [
    {
     "data": {
      "text/plain": [
       "0.42360643696280875"
      ]
     },
     "execution_count": 56,
     "metadata": {},
     "output_type": "execute_result"
    }
   ],
   "source": [
    "model.fit(x_train, y_train)\n",
    "score=model.score(x_test,y_test)\n",
    "\n",
    "score"
   ]
  },
  {
   "cell_type": "code",
   "execution_count": 57,
   "id": "c187757e",
   "metadata": {},
   "outputs": [
    {
     "data": {
      "image/png": "[encoded data removed]",
      "text/plain": [
       "<Figure size 360x360 with 1 Axes>"
      ]
     },
     "metadata": {
      "needs_background": "light"
     },
     "output_type": "display_data"
    }
   ],
   "source": [
    "y_pred_train_model=model.predict(x_train)\n",
    "y_pred_test_model=model.predict(x_test)\n",
    "\n",
    "plt.figure(figsize=(5,5))\n",
    "plt.plot([0,2],[0,2])\n",
    "plt.scatter(y_train,y_pred_train_model,alpha=0.5,color='blue',label='train set')#y_train,y_pred_train_model，一个计算得到的，一个预测的\n",
    "plt.scatter(y_test,y_pred_test_model,alpha=0.5,color='red',label='test set')\n",
    "plt.xlabel('-U(DFT)/eV')\n",
    "plt.ylabel('-U(ML)/eV')\n",
    "plt.legend()\n",
    "plt.savefig('svr.png', dpi=300, format='png')\n",
    "plt.show()"
   ]
  },
  {
   "cell_type": "code",
   "execution_count": 58,
   "id": "5e62f7cd",
   "metadata": {},
   "outputs": [
    {
     "name": "stdout",
     "output_type": "stream",
     "text": [
      "0.32671124501499216\n",
      "0.3648170977373263\n",
      "0.245325275258867\n",
      "0.42360643696280875\n"
     ]
    }
   ],
   "source": [
    "rmse = np.sqrt(mse(y_train,model.predict(x_train)))\n",
    "r2 = r2_score(y_train,model.predict(x_train))\n",
    "rmset = np.sqrt(mse(y_test,model.predict(x_test)))\n",
    "r2t = r2_score(y_test,model.predict(x_test))\n",
    "\n",
    "print(rmse)\n",
    "print(r2)\n",
    "print(rmset)\n",
    "print(r2t)"
   ]
  },
  {
   "cell_type": "code",
   "execution_count": null,
   "id": "fa7a8720",
   "metadata": {},
   "outputs": [],
   "source": []
  }
 ],
 "metadata": {
  "kernelspec": {
   "display_name": "Python 3 (ipykernel)",
   "language": "python",
   "name": "python3"
  },
  "language_info": {
   "codemirror_mode": {
    "name": "ipython",
    "version": 3
   },
   "file_extension": ".py",
   "mimetype": "text/x-python",
   "name": "python",
   "nbconvert_exporter": "python",
   "pygments_lexer": "ipython3",
   "version": "3.7.12"
  }
 },
 "nbformat": 4,
 "nbformat_minor": 5
}
